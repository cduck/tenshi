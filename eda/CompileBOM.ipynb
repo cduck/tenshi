{
 "cells": [
  {
   "cell_type": "code",
   "execution_count": 6,
   "metadata": {
    "collapsed": true
   },
   "outputs": [],
   "source": [
    "import csv\n",
    "import os.path"
   ]
  },
  {
   "cell_type": "code",
   "execution_count": 51,
   "metadata": {
    "collapsed": true
   },
   "outputs": [],
   "source": [
    "# Select input files\n",
    "inputFilePrefix = 'BOM'\n",
    "inputs = [\n",
    "    ['smartsensor.csv', 20],\n",
    "    ['smartsensorPowered.csv', 4],\n",
    "    ['battery_buzzer.csv', 6],\n",
    "    ['metal_detector_circuit.csv', 4],\n",
    "    ['team_flag.csv', 4],\n",
    "    ['cape.csv', 4],\n",
    "    ['arduino_smartsensor_shield.csv', 16],\n",
    "    ['grizzly_bear.csv', 10],\n",
    "]\n",
    "# Select output files\n",
    "outputCsv = 'totalBom.csv'\n",
    "paramOut = 'boardCount.txt'\n",
    "\n",
    "# Sorting config\n",
    "sortKeys = ['Value','Package','Manufacturer Part Number',\n",
    "            'Distributor Part Number']\n",
    "orderKey = 'Reference Designator'  # Try to order the output in a nice way\n",
    "orderKey2 = 'Value'"
   ]
  },
  {
   "cell_type": "code",
   "execution_count": 15,
   "metadata": {
    "collapsed": false
   },
   "outputs": [],
   "source": [
    "allRows = []  # first column is the part count\n",
    "tableHeader = None\n",
    "sortKeyIndexes = None\n",
    "\n",
    "for boardInfo in inputs:\n",
    "    fname = os.path.join(inputFilePrefix, boardInfo[0])\n",
    "    boardMult = boardInfo[1]\n",
    "    with open(fname, 'rb') as csvFile:\n",
    "        csvReader = csv.reader(csvFile, delimiter=',')\n",
    "        firstRow = True\n",
    "        for row in csvReader:\n",
    "            if firstRow:\n",
    "                if tableHeader is None:\n",
    "                    tableHeader = ['Count']+row\n",
    "                firstRow = False\n",
    "            else:\n",
    "                allRows.append([boardMult] + row)"
   ]
  },
  {
   "cell_type": "code",
   "execution_count": 52,
   "metadata": {
    "collapsed": false
   },
   "outputs": [],
   "source": [
    "sortKeyIndexes = [tableHeader.index(key) for key in sortKeys]\n",
    "orderKeyIndex = tableHeader.index(orderKey)\n",
    "orderKey2Index = tableHeader.index(orderKey2)\n",
    "allRows2 = []\n",
    "for row in allRows:\n",
    "    keys = [row[i] for i in sortKeyIndexes]\n",
    "    key = ' : '.join(keys)\n",
    "    allRows2.append(row + [key])"
   ]
  },
  {
   "cell_type": "code",
   "execution_count": 20,
   "metadata": {
    "collapsed": false
   },
   "outputs": [],
   "source": [
    "partDict = {}  # {key: (total count, row)}\n",
    "for row in allRows2:\n",
    "    key = row[-1]\n",
    "    if partDict.has_key(key):\n",
    "        partDict[key][0] += row[0]\n",
    "    else:\n",
    "        partDict[key] = [row[0], row[1:-1]]"
   ]
  },
  {
   "cell_type": "code",
   "execution_count": 26,
   "metadata": {
    "collapsed": false
   },
   "outputs": [],
   "source": [
    "totalRows = []\n",
    "for key, value in partDict.iteritems():\n",
    "    totalRows.append([value[0]] + value[1])"
   ]
  },
  {
   "cell_type": "code",
   "execution_count": 54,
   "metadata": {
    "collapsed": false
   },
   "outputs": [],
   "source": [
    "totalRows.sort(key=lambda row:''.join([i for i in row[orderKeyIndex] if not i.isdigit()])+\n",
    "                              ' '+''.join(row[orderKey2Index].split()))"
   ]
  },
  {
   "cell_type": "code",
   "execution_count": 55,
   "metadata": {
    "collapsed": false
   },
   "outputs": [],
   "source": [
    "# Write output CSV\n",
    "fname = os.path.join(inputFilePrefix, outputCsv)\n",
    "with open(fname, 'wb') as csvFile:\n",
    "    csvWriter = csv.writer(csvFile, delimiter=',')\n",
    "    csvWriter.writerow(tableHeader)\n",
    "    for row in totalRows:\n",
    "        csvWriter.writerow(row)"
   ]
  },
  {
   "cell_type": "code",
   "execution_count": 56,
   "metadata": {
    "collapsed": false
   },
   "outputs": [],
   "source": [
    "# Write output params\n",
    "fname = os.path.join(inputFilePrefix, paramOut)\n",
    "with open(fname, 'w') as paramFile:\n",
    "    paramFile.write(\"Board count:\\n\")\n",
    "    for boardConfig in inputs:\n",
    "        string = '%d x %s\\n' % (boardConfig[1], boardConfig[0])\n",
    "        paramFile.write(string)"
   ]
  },
  {
   "cell_type": "code",
   "execution_count": 49,
   "metadata": {
    "collapsed": false
   },
   "outputs": [
    {
     "data": {
      "text/plain": [
       "'JP'"
      ]
     },
     "execution_count": 49,
     "metadata": {},
     "output_type": "execute_result"
    }
   ],
   "source": [
    "''.join([i for i in \"JP123\" if not i.isdigit()])"
   ]
  },
  {
   "cell_type": "code",
   "execution_count": 45,
   "metadata": {
    "collapsed": false
   },
   "outputs": [
    {
     "data": {
      "text/plain": [
       "-1"
      ]
     },
     "execution_count": 45,
     "metadata": {},
     "output_type": "execute_result"
    }
   ],
   "source": [
    "cmp('ab','b')"
   ]
  },
  {
   "cell_type": "code",
   "execution_count": null,
   "metadata": {
    "collapsed": true
   },
   "outputs": [],
   "source": []
  }
 ],
 "metadata": {
  "kernelspec": {
   "display_name": "Python 2",
   "language": "python",
   "name": "python2"
  },
  "language_info": {
   "codemirror_mode": {
    "name": "ipython",
    "version": 2
   },
   "file_extension": ".py",
   "mimetype": "text/x-python",
   "name": "python",
   "nbconvert_exporter": "python",
   "pygments_lexer": "ipython2",
   "version": "2.7.10"
  }
 },
 "nbformat": 4,
 "nbformat_minor": 0
}
